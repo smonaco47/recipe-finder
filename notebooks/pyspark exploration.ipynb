{
 "cells": [
  {
   "cell_type": "code",
   "execution_count": 78,
   "id": "1b7e58f7-4d47-49e9-a2be-b7b34ed9a466",
   "metadata": {},
   "outputs": [
    {
     "name": "stderr",
     "output_type": "stream",
     "text": [
      "Failed to find Spark jars directory (/root/.cache/pypoetry/virtualenvs/recipe-finder-VsnhxLU2-py3.9/assembly/target/scala-2.12/jars).\n",
      "You need to build Spark with the target \"package\" before running this program.\n"
     ]
    },
    {
     "ename": "RuntimeError",
     "evalue": "Java gateway process exited before sending its port number",
     "output_type": "error",
     "traceback": [
      "\u001b[0;31m---------------------------------------------------------------------------\u001b[0m",
      "\u001b[0;31mRuntimeError\u001b[0m                              Traceback (most recent call last)",
      "\u001b[0;32m/tmp/ipykernel_17/1455063460.py\u001b[0m in \u001b[0;36m<cell line: 3>\u001b[0;34m()\u001b[0m\n\u001b[1;32m      1\u001b[0m \u001b[0;32mfrom\u001b[0m \u001b[0mpyspark\u001b[0m\u001b[0;34m.\u001b[0m\u001b[0msql\u001b[0m \u001b[0;32mimport\u001b[0m \u001b[0mSparkSession\u001b[0m\u001b[0;34m\u001b[0m\u001b[0;34m\u001b[0m\u001b[0m\n\u001b[1;32m      2\u001b[0m \u001b[0;34m\u001b[0m\u001b[0m\n\u001b[0;32m----> 3\u001b[0;31m \u001b[0mspark\u001b[0m \u001b[0;34m=\u001b[0m \u001b[0mSparkSession\u001b[0m\u001b[0;31m \u001b[0m\u001b[0;31m\\\u001b[0m\u001b[0;34m\u001b[0m\u001b[0;34m\u001b[0m\u001b[0m\n\u001b[0m\u001b[1;32m      4\u001b[0m     \u001b[0;34m.\u001b[0m\u001b[0mbuilder\u001b[0m\u001b[0;31m \u001b[0m\u001b[0;31m\\\u001b[0m\u001b[0;34m\u001b[0m\u001b[0;34m\u001b[0m\u001b[0m\n\u001b[1;32m      5\u001b[0m     \u001b[0;34m.\u001b[0m\u001b[0mappName\u001b[0m\u001b[0;34m(\u001b[0m\u001b[0;34m\"Data exploration\"\u001b[0m\u001b[0;34m)\u001b[0m\u001b[0;31m \u001b[0m\u001b[0;31m\\\u001b[0m\u001b[0;34m\u001b[0m\u001b[0;34m\u001b[0m\u001b[0m\n",
      "\u001b[0;32m~/.cache/pypoetry/virtualenvs/recipe-finder-VsnhxLU2-py3.9/lib/python3.9/site-packages/pyspark/sql/session.py\u001b[0m in \u001b[0;36mgetOrCreate\u001b[0;34m(self)\u001b[0m\n\u001b[1;32m    267\u001b[0m                         \u001b[0msparkConf\u001b[0m\u001b[0;34m.\u001b[0m\u001b[0mset\u001b[0m\u001b[0;34m(\u001b[0m\u001b[0mkey\u001b[0m\u001b[0;34m,\u001b[0m \u001b[0mvalue\u001b[0m\u001b[0;34m)\u001b[0m\u001b[0;34m\u001b[0m\u001b[0;34m\u001b[0m\u001b[0m\n\u001b[1;32m    268\u001b[0m                     \u001b[0;31m# This SparkContext may be an existing one.\u001b[0m\u001b[0;34m\u001b[0m\u001b[0;34m\u001b[0m\u001b[0m\n\u001b[0;32m--> 269\u001b[0;31m                     \u001b[0msc\u001b[0m \u001b[0;34m=\u001b[0m \u001b[0mSparkContext\u001b[0m\u001b[0;34m.\u001b[0m\u001b[0mgetOrCreate\u001b[0m\u001b[0;34m(\u001b[0m\u001b[0msparkConf\u001b[0m\u001b[0;34m)\u001b[0m\u001b[0;34m\u001b[0m\u001b[0;34m\u001b[0m\u001b[0m\n\u001b[0m\u001b[1;32m    270\u001b[0m                     \u001b[0;31m# Do not update `SparkConf` for existing `SparkContext`, as it's shared\u001b[0m\u001b[0;34m\u001b[0m\u001b[0;34m\u001b[0m\u001b[0m\n\u001b[1;32m    271\u001b[0m                     \u001b[0;31m# by all sessions.\u001b[0m\u001b[0;34m\u001b[0m\u001b[0;34m\u001b[0m\u001b[0m\n",
      "\u001b[0;32m~/.cache/pypoetry/virtualenvs/recipe-finder-VsnhxLU2-py3.9/lib/python3.9/site-packages/pyspark/context.py\u001b[0m in \u001b[0;36mgetOrCreate\u001b[0;34m(cls, conf)\u001b[0m\n\u001b[1;32m    481\u001b[0m         \u001b[0;32mwith\u001b[0m \u001b[0mSparkContext\u001b[0m\u001b[0;34m.\u001b[0m\u001b[0m_lock\u001b[0m\u001b[0;34m:\u001b[0m\u001b[0;34m\u001b[0m\u001b[0;34m\u001b[0m\u001b[0m\n\u001b[1;32m    482\u001b[0m             \u001b[0;32mif\u001b[0m \u001b[0mSparkContext\u001b[0m\u001b[0;34m.\u001b[0m\u001b[0m_active_spark_context\u001b[0m \u001b[0;32mis\u001b[0m \u001b[0;32mNone\u001b[0m\u001b[0;34m:\u001b[0m\u001b[0;34m\u001b[0m\u001b[0;34m\u001b[0m\u001b[0m\n\u001b[0;32m--> 483\u001b[0;31m                 \u001b[0mSparkContext\u001b[0m\u001b[0;34m(\u001b[0m\u001b[0mconf\u001b[0m\u001b[0;34m=\u001b[0m\u001b[0mconf\u001b[0m \u001b[0;32mor\u001b[0m \u001b[0mSparkConf\u001b[0m\u001b[0;34m(\u001b[0m\u001b[0;34m)\u001b[0m\u001b[0;34m)\u001b[0m\u001b[0;34m\u001b[0m\u001b[0;34m\u001b[0m\u001b[0m\n\u001b[0m\u001b[1;32m    484\u001b[0m             \u001b[0;32massert\u001b[0m \u001b[0mSparkContext\u001b[0m\u001b[0;34m.\u001b[0m\u001b[0m_active_spark_context\u001b[0m \u001b[0;32mis\u001b[0m \u001b[0;32mnot\u001b[0m \u001b[0;32mNone\u001b[0m\u001b[0;34m\u001b[0m\u001b[0;34m\u001b[0m\u001b[0m\n\u001b[1;32m    485\u001b[0m             \u001b[0;32mreturn\u001b[0m \u001b[0mSparkContext\u001b[0m\u001b[0;34m.\u001b[0m\u001b[0m_active_spark_context\u001b[0m\u001b[0;34m\u001b[0m\u001b[0;34m\u001b[0m\u001b[0m\n",
      "\u001b[0;32m~/.cache/pypoetry/virtualenvs/recipe-finder-VsnhxLU2-py3.9/lib/python3.9/site-packages/pyspark/context.py\u001b[0m in \u001b[0;36m__init__\u001b[0;34m(self, master, appName, sparkHome, pyFiles, environment, batchSize, serializer, conf, gateway, jsc, profiler_cls, udf_profiler_cls)\u001b[0m\n\u001b[1;32m    193\u001b[0m             )\n\u001b[1;32m    194\u001b[0m \u001b[0;34m\u001b[0m\u001b[0m\n\u001b[0;32m--> 195\u001b[0;31m         \u001b[0mSparkContext\u001b[0m\u001b[0;34m.\u001b[0m\u001b[0m_ensure_initialized\u001b[0m\u001b[0;34m(\u001b[0m\u001b[0mself\u001b[0m\u001b[0;34m,\u001b[0m \u001b[0mgateway\u001b[0m\u001b[0;34m=\u001b[0m\u001b[0mgateway\u001b[0m\u001b[0;34m,\u001b[0m \u001b[0mconf\u001b[0m\u001b[0;34m=\u001b[0m\u001b[0mconf\u001b[0m\u001b[0;34m)\u001b[0m\u001b[0;34m\u001b[0m\u001b[0;34m\u001b[0m\u001b[0m\n\u001b[0m\u001b[1;32m    196\u001b[0m         \u001b[0;32mtry\u001b[0m\u001b[0;34m:\u001b[0m\u001b[0;34m\u001b[0m\u001b[0;34m\u001b[0m\u001b[0m\n\u001b[1;32m    197\u001b[0m             self._do_init(\n",
      "\u001b[0;32m~/.cache/pypoetry/virtualenvs/recipe-finder-VsnhxLU2-py3.9/lib/python3.9/site-packages/pyspark/context.py\u001b[0m in \u001b[0;36m_ensure_initialized\u001b[0;34m(cls, instance, gateway, conf)\u001b[0m\n\u001b[1;32m    415\u001b[0m         \u001b[0;32mwith\u001b[0m \u001b[0mSparkContext\u001b[0m\u001b[0;34m.\u001b[0m\u001b[0m_lock\u001b[0m\u001b[0;34m:\u001b[0m\u001b[0;34m\u001b[0m\u001b[0;34m\u001b[0m\u001b[0m\n\u001b[1;32m    416\u001b[0m             \u001b[0;32mif\u001b[0m \u001b[0;32mnot\u001b[0m \u001b[0mSparkContext\u001b[0m\u001b[0;34m.\u001b[0m\u001b[0m_gateway\u001b[0m\u001b[0;34m:\u001b[0m\u001b[0;34m\u001b[0m\u001b[0;34m\u001b[0m\u001b[0m\n\u001b[0;32m--> 417\u001b[0;31m                 \u001b[0mSparkContext\u001b[0m\u001b[0;34m.\u001b[0m\u001b[0m_gateway\u001b[0m \u001b[0;34m=\u001b[0m \u001b[0mgateway\u001b[0m \u001b[0;32mor\u001b[0m \u001b[0mlaunch_gateway\u001b[0m\u001b[0;34m(\u001b[0m\u001b[0mconf\u001b[0m\u001b[0;34m)\u001b[0m\u001b[0;34m\u001b[0m\u001b[0;34m\u001b[0m\u001b[0m\n\u001b[0m\u001b[1;32m    418\u001b[0m                 \u001b[0mSparkContext\u001b[0m\u001b[0;34m.\u001b[0m\u001b[0m_jvm\u001b[0m \u001b[0;34m=\u001b[0m \u001b[0mSparkContext\u001b[0m\u001b[0;34m.\u001b[0m\u001b[0m_gateway\u001b[0m\u001b[0;34m.\u001b[0m\u001b[0mjvm\u001b[0m\u001b[0;34m\u001b[0m\u001b[0;34m\u001b[0m\u001b[0m\n\u001b[1;32m    419\u001b[0m \u001b[0;34m\u001b[0m\u001b[0m\n",
      "\u001b[0;32m~/.cache/pypoetry/virtualenvs/recipe-finder-VsnhxLU2-py3.9/lib/python3.9/site-packages/pyspark/java_gateway.py\u001b[0m in \u001b[0;36mlaunch_gateway\u001b[0;34m(conf, popen_kwargs)\u001b[0m\n\u001b[1;32m    104\u001b[0m \u001b[0;34m\u001b[0m\u001b[0m\n\u001b[1;32m    105\u001b[0m             \u001b[0;32mif\u001b[0m \u001b[0;32mnot\u001b[0m \u001b[0mos\u001b[0m\u001b[0;34m.\u001b[0m\u001b[0mpath\u001b[0m\u001b[0;34m.\u001b[0m\u001b[0misfile\u001b[0m\u001b[0;34m(\u001b[0m\u001b[0mconn_info_file\u001b[0m\u001b[0;34m)\u001b[0m\u001b[0;34m:\u001b[0m\u001b[0;34m\u001b[0m\u001b[0;34m\u001b[0m\u001b[0m\n\u001b[0;32m--> 106\u001b[0;31m                 \u001b[0;32mraise\u001b[0m \u001b[0mRuntimeError\u001b[0m\u001b[0;34m(\u001b[0m\u001b[0;34m\"Java gateway process exited before sending its port number\"\u001b[0m\u001b[0;34m)\u001b[0m\u001b[0;34m\u001b[0m\u001b[0;34m\u001b[0m\u001b[0m\n\u001b[0m\u001b[1;32m    107\u001b[0m \u001b[0;34m\u001b[0m\u001b[0m\n\u001b[1;32m    108\u001b[0m             \u001b[0;32mwith\u001b[0m \u001b[0mopen\u001b[0m\u001b[0;34m(\u001b[0m\u001b[0mconn_info_file\u001b[0m\u001b[0;34m,\u001b[0m \u001b[0;34m\"rb\"\u001b[0m\u001b[0;34m)\u001b[0m \u001b[0;32mas\u001b[0m \u001b[0minfo\u001b[0m\u001b[0;34m:\u001b[0m\u001b[0;34m\u001b[0m\u001b[0;34m\u001b[0m\u001b[0m\n",
      "\u001b[0;31mRuntimeError\u001b[0m: Java gateway process exited before sending its port number"
     ]
    }
   ],
   "source": [
    "from pyspark.sql import SparkSession\n",
    "\n",
    "spark = SparkSession \\\n",
    "    .builder \\\n",
    "    .appName(\"Data exploration\") \\\n",
    "    .getOrCreate()"
   ]
  },
  {
   "cell_type": "code",
   "execution_count": 77,
   "id": "373dcda7-63cc-4439-87ec-de2c336689d2",
   "metadata": {},
   "outputs": [],
   "source": [
    "import os\n",
    "os.environ[\"SPARK_HOME\"] = '/root/.cache/pypoetry/virtualenvs/recipe-finder-VsnhxLU2-py3.9'\n",
    "os.environ[\"JAVA_HOME\"] = '/usr/lib/jvm/java-17-openjdk-amd64'\n",
    "os.environ[\"SPARK_JARS_DIR\"] = '/root/.cache/pypoetry/virtualenvs/recipe-finder-VsnhxLU2-py3.9/lib/python3.9/site-packages/pyspark/jars'\n",
    "#/root/.cache/pypoetry/virtualenvs/recipe-finder-VsnhxLU2-py3.9/lib/python3.9/site-packages"
   ]
  },
  {
   "cell_type": "code",
   "execution_count": 51,
   "id": "3cdae3fd-f38a-48f1-b346-dd0fff5c8bcb",
   "metadata": {},
   "outputs": [
    {
     "name": "stdout",
     "output_type": "stream",
     "text": [
      "__init__.py\t    install.py\t\t      resultiterable.py\n",
      "__pycache__\t    instrumentation_utils.py  sbin\n",
      "_globals.py\t    jars\t\t      serializers.py\n",
      "_typing.pyi\t    java_gateway.py\t      shell.py\n",
      "accumulators.py     join.py\t\t      shuffle.py\n",
      "bin\t\t    licenses\t\t      sql\n",
      "broadcast.py\t    ml\t\t\t      statcounter.py\n",
      "cloudpickle\t    mllib\t\t      status.py\n",
      "conf.py\t\t    pandas\t\t      storagelevel.py\n",
      "context.py\t    profiler.py\t\t      streaming\n",
      "daemon.py\t    py.typed\t\t      taskcontext.py\n",
      "data\t\t    python\t\t      traceback_utils.py\n",
      "examples\t    rdd.py\t\t      util.py\n",
      "files.py\t    rddsampler.py\t      version.py\n",
      "find_spark_home.py  resource\t\t      worker.py\n"
     ]
    }
   ],
   "source": [
    "!ls /root/.cache/pypoetry/virtualenvs/recipe-finder-VsnhxLU2-py3.9/lib/python3.9/site-packages/pyspark"
   ]
  },
  {
   "cell_type": "code",
   "execution_count": 53,
   "id": "29ce061b-34b7-4bbc-801e-231916ff6a73",
   "metadata": {},
   "outputs": [
    {
     "name": "stdout",
     "output_type": "stream",
     "text": [
      "Name: pyspark\n",
      "Version: 3.3.0\n",
      "Summary: Apache Spark Python API\n",
      "Home-page: https://github.com/apache/spark/tree/master/python\n",
      "Author: Spark Developers\n",
      "Author-email: dev@spark.apache.org\n",
      "License: http://www.apache.org/licenses/LICENSE-2.0\n",
      "Location: /root/.cache/pypoetry/virtualenvs/recipe-finder-VsnhxLU2-py3.9/lib/python3.9/site-packages\n",
      "Requires: py4j\n",
      "Required-by: \n"
     ]
    }
   ],
   "source": [
    "!pip3 show pyspark"
   ]
  },
  {
   "cell_type": "code",
   "execution_count": 74,
   "id": "2732819e-3bf1-4670-be8d-705c5578c90e",
   "metadata": {},
   "outputs": [
    {
     "name": "stdout",
     "output_type": "stream",
     "text": [
      "MPLBACKEND=module://matplotlib_inline.backend_inline\n",
      "HOSTNAME=6717940dd80d\n",
      "PYTHON_PIP_VERSION=22.0.4\n",
      "HOME=/root\n",
      "GPG_KEY=E3FF2839C048B25C084DEBE9B26995E310250568\n",
      "PAGER=cat\n",
      "PYTHON_GET_PIP_URL=https://github.com/pypa/get-pip/raw/5eaac1050023df1f5c98b173b248c260023f2278/public/get-pip.py\n",
      "TERM=xterm-color\n",
      "PATH=/root/.cache/pypoetry/virtualenvs/recipe-finder-VsnhxLU2-py3.9/bin:/usr/local/bin:/usr/local/sbin:/usr/local/bin:/usr/sbin:/usr/bin:/sbin:/bin:/usr/local/spark/bin:/root/.cache/pypoetry/virtualenvs/recipe-finder-VsnhxLU2-py3.9/lib/python3.9/site-packages\n",
      "LANG=C.UTF-8\n",
      "PLAT=linux-x86_64\n",
      "PYTHON_VERSION=3.9.14\n",
      "PYTHON_SETUPTOOLS_VERSION=58.1.0\n",
      "SPARK_OPTS=--driver-java-options=-Xms1024M --driver-java-options=-Xmx4096M --driver-java-options=-Dlog4j.logLevel=info\n",
      "VIRTUAL_ENV=/root/.cache/pypoetry/virtualenvs/recipe-finder-VsnhxLU2-py3.9\n",
      "GIT_PAGER=cat\n",
      "CLICOLOR=1\n",
      "JAVA_HOME=/usr/lib/jvm/java-17-openjdk-amd64\n",
      "PWD=/src/src\n",
      "PYTHON_GET_PIP_SHA256=5aefe6ade911d997af080b315ebcb7f882212d070465df544e1175ac2be519b4\n",
      "JPY_PARENT_PID=1\n",
      "SPARK_HOME=/root/.cache/pypoetry/virtualenvs/recipe-finder-VsnhxLU2-py3.9\n"
     ]
    }
   ],
   "source": [
    "!env"
   ]
  },
  {
   "cell_type": "code",
   "execution_count": 70,
   "id": "df2de861-5e56-47f8-b708-5951848e463e",
   "metadata": {},
   "outputs": [
    {
     "name": "stdout",
     "output_type": "stream",
     "text": [
      "Failed to find Spark jars directory (/root/.cache/pypoetry/virtualenvs/recipe-finder-VsnhxLU2-py3.9/assembly/target/scala-2.12/jars).\n",
      "You need to build Spark with the target \"package\" before running this program.\n"
     ]
    }
   ],
   "source": [
    "!pyspark"
   ]
  },
  {
   "cell_type": "code",
   "execution_count": 73,
   "id": "54b422b2-0c98-45b9-97cd-5a189300cf4d",
   "metadata": {},
   "outputs": [
    {
     "name": "stdout",
     "output_type": "stream",
     "text": [
      "HikariCP-2.5.1.jar\n",
      "JLargeArrays-1.5.jar\n",
      "JTransforms-3.1.jar\n",
      "RoaringBitmap-0.9.25.jar\n",
      "ST4-4.0.4.jar\n",
      "activation-1.1.1.jar\n",
      "aircompressor-0.21.jar\n",
      "algebra_2.12-2.0.1.jar\n",
      "annotations-17.0.0.jar\n",
      "antlr-runtime-3.5.2.jar\n",
      "antlr4-runtime-4.8.jar\n",
      "aopalliance-repackaged-2.6.1.jar\n",
      "arpack-2.2.1.jar\n",
      "arpack_combined_all-0.1.jar\n",
      "arrow-format-7.0.0.jar\n",
      "arrow-memory-core-7.0.0.jar\n",
      "arrow-memory-netty-7.0.0.jar\n",
      "arrow-vector-7.0.0.jar\n",
      "audience-annotations-0.5.0.jar\n",
      "automaton-1.11-8.jar\n",
      "avro-1.11.0.jar\n",
      "avro-ipc-1.11.0.jar\n",
      "avro-mapred-1.11.0.jar\n",
      "blas-2.2.1.jar\n",
      "bonecp-0.8.0.RELEASE.jar\n",
      "breeze-macros_2.12-1.2.jar\n",
      "breeze_2.12-1.2.jar\n",
      "cats-kernel_2.12-2.1.1.jar\n",
      "chill-java-0.10.0.jar\n",
      "chill_2.12-0.10.0.jar\n",
      "commons-cli-1.5.0.jar\n",
      "commons-codec-1.15.jar\n",
      "commons-collections-3.2.2.jar\n",
      "commons-collections4-4.4.jar\n",
      "commons-compiler-3.0.16.jar\n",
      "commons-compress-1.21.jar\n",
      "commons-crypto-1.1.0.jar\n",
      "commons-dbcp-1.4.jar\n",
      "commons-io-2.11.0.jar\n",
      "commons-lang-2.6.jar\n",
      "commons-lang3-3.12.0.jar\n",
      "commons-logging-1.1.3.jar\n",
      "commons-math3-3.6.1.jar\n",
      "commons-pool-1.5.4.jar\n",
      "commons-text-1.9.jar\n",
      "compress-lzf-1.1.jar\n",
      "core-1.1.2.jar\n",
      "curator-client-2.13.0.jar\n",
      "curator-framework-2.13.0.jar\n",
      "curator-recipes-2.13.0.jar\n",
      "datanucleus-api-jdo-4.2.4.jar\n",
      "datanucleus-core-4.1.17.jar\n",
      "datanucleus-rdbms-4.1.19.jar\n",
      "derby-10.14.2.0.jar\n",
      "dropwizard-metrics-hadoop-metrics2-reporter-0.1.2.jar\n",
      "flatbuffers-java-1.12.0.jar\n",
      "generex-1.0.2.jar\n",
      "gson-2.2.4.jar\n",
      "guava-14.0.1.jar\n",
      "hadoop-client-api-3.3.2.jar\n",
      "hadoop-client-runtime-3.3.2.jar\n",
      "hadoop-shaded-guava-1.1.1.jar\n",
      "hadoop-yarn-server-web-proxy-3.3.2.jar\n",
      "hive-beeline-2.3.9.jar\n",
      "hive-cli-2.3.9.jar\n",
      "hive-common-2.3.9.jar\n",
      "hive-exec-2.3.9-core.jar\n",
      "hive-jdbc-2.3.9.jar\n",
      "hive-llap-common-2.3.9.jar\n",
      "hive-metastore-2.3.9.jar\n",
      "hive-serde-2.3.9.jar\n",
      "hive-service-rpc-3.1.2.jar\n",
      "hive-shims-0.23-2.3.9.jar\n",
      "hive-shims-2.3.9.jar\n",
      "hive-shims-common-2.3.9.jar\n",
      "hive-shims-scheduler-2.3.9.jar\n",
      "hive-storage-api-2.7.2.jar\n",
      "hive-vector-code-gen-2.3.9.jar\n",
      "hk2-api-2.6.1.jar\n",
      "hk2-locator-2.6.1.jar\n",
      "hk2-utils-2.6.1.jar\n",
      "httpclient-4.5.13.jar\n",
      "httpcore-4.4.14.jar\n",
      "istack-commons-runtime-3.0.8.jar\n",
      "ivy-2.5.0.jar\n",
      "jackson-annotations-2.13.3.jar\n",
      "jackson-core-2.13.3.jar\n",
      "jackson-core-asl-1.9.13.jar\n",
      "jackson-databind-2.13.3.jar\n",
      "jackson-dataformat-yaml-2.13.3.jar\n",
      "jackson-datatype-jsr310-2.13.3.jar\n",
      "jackson-mapper-asl-1.9.13.jar\n",
      "jackson-module-scala_2.12-2.13.3.jar\n",
      "jakarta.annotation-api-1.3.5.jar\n",
      "jakarta.inject-2.6.1.jar\n",
      "jakarta.servlet-api-4.0.3.jar\n",
      "jakarta.validation-api-2.0.2.jar\n",
      "jakarta.ws.rs-api-2.1.6.jar\n",
      "jakarta.xml.bind-api-2.3.2.jar\n",
      "janino-3.0.16.jar\n",
      "javassist-3.25.0-GA.jar\n",
      "javax.jdo-3.2.0-m3.jar\n",
      "javolution-5.5.1.jar\n",
      "jaxb-runtime-2.3.2.jar\n",
      "jcl-over-slf4j-1.7.32.jar\n",
      "jdo-api-3.0.1.jar\n",
      "jersey-client-2.34.jar\n",
      "jersey-common-2.34.jar\n",
      "jersey-container-servlet-2.34.jar\n",
      "jersey-container-servlet-core-2.34.jar\n",
      "jersey-hk2-2.34.jar\n",
      "jersey-server-2.34.jar\n",
      "jline-2.14.6.jar\n",
      "joda-time-2.10.13.jar\n",
      "jodd-core-3.5.2.jar\n",
      "jpam-1.1.jar\n",
      "json-1.8.jar\n",
      "json4s-ast_2.12-3.7.0-M11.jar\n",
      "json4s-core_2.12-3.7.0-M11.jar\n",
      "json4s-jackson_2.12-3.7.0-M11.jar\n",
      "json4s-scalap_2.12-3.7.0-M11.jar\n",
      "jsr305-3.0.0.jar\n",
      "jta-1.1.jar\n",
      "jul-to-slf4j-1.7.32.jar\n",
      "kryo-shaded-4.0.2.jar\n",
      "kubernetes-client-5.12.2.jar\n",
      "kubernetes-model-admissionregistration-5.12.2.jar\n",
      "kubernetes-model-apiextensions-5.12.2.jar\n",
      "kubernetes-model-apps-5.12.2.jar\n",
      "kubernetes-model-autoscaling-5.12.2.jar\n",
      "kubernetes-model-batch-5.12.2.jar\n",
      "kubernetes-model-certificates-5.12.2.jar\n",
      "kubernetes-model-common-5.12.2.jar\n",
      "kubernetes-model-coordination-5.12.2.jar\n",
      "kubernetes-model-core-5.12.2.jar\n",
      "kubernetes-model-discovery-5.12.2.jar\n",
      "kubernetes-model-events-5.12.2.jar\n",
      "kubernetes-model-extensions-5.12.2.jar\n",
      "kubernetes-model-flowcontrol-5.12.2.jar\n",
      "kubernetes-model-metrics-5.12.2.jar\n",
      "kubernetes-model-networking-5.12.2.jar\n",
      "kubernetes-model-node-5.12.2.jar\n",
      "kubernetes-model-policy-5.12.2.jar\n",
      "kubernetes-model-rbac-5.12.2.jar\n",
      "kubernetes-model-scheduling-5.12.2.jar\n",
      "kubernetes-model-storageclass-5.12.2.jar\n",
      "lapack-2.2.1.jar\n",
      "leveldbjni-all-1.8.jar\n",
      "libfb303-0.9.3.jar\n",
      "libthrift-0.12.0.jar\n",
      "log4j-1.2-api-2.17.2.jar\n",
      "log4j-api-2.17.2.jar\n",
      "log4j-core-2.17.2.jar\n",
      "log4j-slf4j-impl-2.17.2.jar\n",
      "logging-interceptor-3.12.12.jar\n",
      "lz4-java-1.8.0.jar\n",
      "mesos-1.4.3-shaded-protobuf.jar\n",
      "metrics-core-4.2.7.jar\n",
      "metrics-graphite-4.2.7.jar\n",
      "metrics-jmx-4.2.7.jar\n",
      "metrics-json-4.2.7.jar\n",
      "metrics-jvm-4.2.7.jar\n",
      "minlog-1.3.0.jar\n",
      "netty-all-4.1.74.Final.jar\n",
      "netty-buffer-4.1.74.Final.jar\n",
      "netty-codec-4.1.74.Final.jar\n",
      "netty-common-4.1.74.Final.jar\n",
      "netty-handler-4.1.74.Final.jar\n",
      "netty-resolver-4.1.74.Final.jar\n",
      "netty-tcnative-classes-2.0.48.Final.jar\n",
      "netty-transport-4.1.74.Final.jar\n",
      "netty-transport-classes-epoll-4.1.74.Final.jar\n",
      "netty-transport-classes-kqueue-4.1.74.Final.jar\n",
      "netty-transport-native-epoll-4.1.74.Final-linux-aarch_64.jar\n",
      "netty-transport-native-epoll-4.1.74.Final-linux-x86_64.jar\n",
      "netty-transport-native-kqueue-4.1.74.Final-osx-aarch_64.jar\n",
      "netty-transport-native-kqueue-4.1.74.Final-osx-x86_64.jar\n",
      "netty-transport-native-unix-common-4.1.74.Final.jar\n",
      "objenesis-3.2.jar\n",
      "okhttp-3.12.12.jar\n",
      "okio-1.14.0.jar\n",
      "opencsv-2.3.jar\n",
      "orc-core-1.7.4.jar\n",
      "orc-mapreduce-1.7.4.jar\n",
      "orc-shims-1.7.4.jar\n",
      "oro-2.0.8.jar\n",
      "osgi-resource-locator-1.0.3.jar\n",
      "paranamer-2.8.jar\n",
      "parquet-column-1.12.2.jar\n",
      "parquet-common-1.12.2.jar\n",
      "parquet-encoding-1.12.2.jar\n",
      "parquet-format-structures-1.12.2.jar\n",
      "parquet-hadoop-1.12.2.jar\n",
      "parquet-jackson-1.12.2.jar\n",
      "pickle-1.2.jar\n",
      "protobuf-java-2.5.0.jar\n",
      "py4j-0.10.9.5.jar\n",
      "rocksdbjni-6.20.3.jar\n",
      "scala-collection-compat_2.12-2.1.1.jar\n",
      "scala-compiler-2.12.15.jar\n",
      "scala-library-2.12.15.jar\n",
      "scala-parser-combinators_2.12-1.1.2.jar\n",
      "scala-reflect-2.12.15.jar\n",
      "scala-xml_2.12-1.2.0.jar\n",
      "shapeless_2.12-2.3.7.jar\n",
      "shims-0.9.25.jar\n",
      "slf4j-api-1.7.32.jar\n",
      "snakeyaml-1.30.jar\n",
      "snappy-java-1.1.8.4.jar\n",
      "spark-catalyst_2.12-3.3.0.jar\n",
      "spark-core_2.12-3.3.0.jar\n",
      "spark-graphx_2.12-3.3.0.jar\n",
      "spark-hive-thriftserver_2.12-3.3.0.jar\n",
      "spark-hive_2.12-3.3.0.jar\n",
      "spark-kubernetes_2.12-3.3.0.jar\n",
      "spark-kvstore_2.12-3.3.0.jar\n",
      "spark-launcher_2.12-3.3.0.jar\n",
      "spark-mesos_2.12-3.3.0.jar\n",
      "spark-mllib-local_2.12-3.3.0.jar\n",
      "spark-mllib_2.12-3.3.0.jar\n",
      "spark-network-common_2.12-3.3.0.jar\n",
      "spark-network-shuffle_2.12-3.3.0.jar\n",
      "spark-repl_2.12-3.3.0.jar\n",
      "spark-sketch_2.12-3.3.0.jar\n",
      "spark-sql_2.12-3.3.0.jar\n",
      "spark-streaming_2.12-3.3.0.jar\n",
      "spark-tags_2.12-3.3.0-tests.jar\n",
      "spark-tags_2.12-3.3.0.jar\n",
      "spark-unsafe_2.12-3.3.0.jar\n",
      "spark-yarn_2.12-3.3.0.jar\n",
      "spire-macros_2.12-0.17.0.jar\n",
      "spire-platform_2.12-0.17.0.jar\n",
      "spire-util_2.12-0.17.0.jar\n",
      "spire_2.12-0.17.0.jar\n",
      "stax-api-1.0.1.jar\n",
      "stream-2.9.6.jar\n",
      "super-csv-2.2.0.jar\n",
      "threeten-extra-1.5.0.jar\n",
      "tink-1.6.1.jar\n",
      "transaction-api-1.1.jar\n",
      "univocity-parsers-2.9.1.jar\n",
      "velocity-1.5.jar\n",
      "xbean-asm9-shaded-4.20.jar\n",
      "xz-1.8.jar\n",
      "zjsonpatch-0.3.0.jar\n",
      "zookeeper-3.6.2.jar\n",
      "zookeeper-jute-3.6.2.jar\n",
      "zstd-jni-1.5.2-1.jar\n"
     ]
    }
   ],
   "source": [
    "!ls /root/.cache/pypoetry/virtualenvs/recipe-finder-VsnhxLU2-py3.9/lib/python3.9/site-packages/pyspark/jars"
   ]
  },
  {
   "cell_type": "code",
   "execution_count": 75,
   "id": "db39e5a2-b37f-47dd-969b-ffab2dcb201e",
   "metadata": {},
   "outputs": [
    {
     "name": "stdout",
     "output_type": "stream",
     "text": [
      "__init__.py\t    install.py\t\t      resultiterable.py\n",
      "__pycache__\t    instrumentation_utils.py  sbin\n",
      "_globals.py\t    jars\t\t      serializers.py\n",
      "_typing.pyi\t    java_gateway.py\t      shell.py\n",
      "accumulators.py     join.py\t\t      shuffle.py\n",
      "bin\t\t    licenses\t\t      sql\n",
      "broadcast.py\t    ml\t\t\t      statcounter.py\n",
      "cloudpickle\t    mllib\t\t      status.py\n",
      "conf.py\t\t    pandas\t\t      storagelevel.py\n",
      "context.py\t    profiler.py\t\t      streaming\n",
      "daemon.py\t    py.typed\t\t      taskcontext.py\n",
      "data\t\t    python\t\t      traceback_utils.py\n",
      "examples\t    rdd.py\t\t      util.py\n",
      "files.py\t    rddsampler.py\t      version.py\n",
      "find_spark_home.py  resource\t\t      worker.py\n"
     ]
    }
   ],
   "source": [
    "!ls /root/.cache/pypoetry/virtualenvs/recipe-finder-VsnhxLU2-py3.9/lib/python3.9/site-packages/pyspark"
   ]
  },
  {
   "cell_type": "code",
   "execution_count": 76,
   "id": "d29a3342-fa51-4a2c-9ac6-ccf75b50d39f",
   "metadata": {},
   "outputs": [
    {
     "name": "stdout",
     "output_type": "stream",
     "text": [
      "/root/.cache/pypoetry/virtualenvs/recipe-finder-VsnhxLU2-py3.9\n"
     ]
    }
   ],
   "source": [
    "!python /root/.cache/pypoetry/virtualenvs/recipe-finder-VsnhxLU2-py3.9/lib/python3.9/site-packages/pyspark/find_spark_home.py"
   ]
  },
  {
   "cell_type": "code",
   "execution_count": null,
   "id": "383a419e-6cfc-4bf0-b077-3db36d0a2d94",
   "metadata": {},
   "outputs": [],
   "source": []
  }
 ],
 "metadata": {
  "kernelspec": {
   "display_name": "Python 3 (ipykernel)",
   "language": "python",
   "name": "python3"
  },
  "language_info": {
   "codemirror_mode": {
    "name": "ipython",
    "version": 3
   },
   "file_extension": ".py",
   "mimetype": "text/x-python",
   "name": "python",
   "nbconvert_exporter": "python",
   "pygments_lexer": "ipython3",
   "version": "3.9.14"
  }
 },
 "nbformat": 4,
 "nbformat_minor": 5
}
