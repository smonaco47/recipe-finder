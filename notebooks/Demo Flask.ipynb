{
 "cells": [
  {
   "cell_type": "code",
   "execution_count": 2,
   "id": "ecda9ff6-e6d0-40bf-bbda-288cdf9e2ea2",
   "metadata": {},
   "outputs": [
    {
     "name": "stdout",
     "output_type": "stream",
     "text": [
      "The following packages are already present in the pyproject.toml and will be skipped:\n",
      "\n",
      "  • \u001b[36mflask\u001b[39m\n",
      "\n",
      "If you want to update it to the latest compatible version, you can use `poetry update package`.\n",
      "If you prefer to upgrade it to the latest available version, you can use `poetry add package@latest`.\n",
      "\n",
      "Nothing to add.\n"
     ]
    }
   ],
   "source": [
    "!poetry add flask"
   ]
  },
  {
   "cell_type": "code",
   "execution_count": null,
   "id": "da1d0900-a121-4371-991c-3f8a0b2a77e1",
   "metadata": {},
   "outputs": [
    {
     "name": "stdout",
     "output_type": "stream",
     "text": [
      "Usage: flask run [OPTIONS]\n",
      "Try 'flask run --help' for help.\n",
      "\n",
      "Error: Could not import 'src.api-foo'.\n"
     ]
    }
   ],
   "source": [
    "!export FLASK_APP='/src/src/api.py' && poetry run flask run"
   ]
  },
  {
   "cell_type": "code",
   "execution_count": 2,
   "id": "d6bea4ac-bb27-4559-84e1-b038263be442",
   "metadata": {},
   "outputs": [
    {
     "name": "stdout",
     "output_type": "stream",
     "text": [
      "/bin/sh: 1: npx: not found\n"
     ]
    }
   ],
   "source": [
    "!npx"
   ]
  },
  {
   "cell_type": "code",
   "execution_count": null,
   "id": "2d2cbf3d-cb29-4b06-a62a-e7591e0619a0",
   "metadata": {},
   "outputs": [],
   "source": []
  }
 ],
 "metadata": {
  "kernelspec": {
   "display_name": "Python 3 (ipykernel)",
   "language": "python",
   "name": "python3"
  },
  "language_info": {
   "codemirror_mode": {
    "name": "ipython",
    "version": 3
   },
   "file_extension": ".py",
   "mimetype": "text/x-python",
   "name": "python",
   "nbconvert_exporter": "python",
   "pygments_lexer": "ipython3",
   "version": "3.9.15"
  }
 },
 "nbformat": 4,
 "nbformat_minor": 5
}
