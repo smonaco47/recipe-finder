{
 "cells": [
  {
   "cell_type": "code",
   "execution_count": 1,
   "id": "fd7a8711-2b0e-42e4-9175-499e28b13853",
   "metadata": {},
   "outputs": [],
   "source": [
    "import pickle\n",
    "import numpy as np\n",
    "import pandas as pd"
   ]
  },
  {
   "cell_type": "code",
   "execution_count": 2,
   "id": "7e763240-4866-49fb-a58e-0cfb49ab972a",
   "metadata": {},
   "outputs": [],
   "source": [
    "model_path = \"../models/trained_kmeans_6_20221023-221759.pkl\""
   ]
  },
  {
   "cell_type": "markdown",
   "id": "53e854b8-3953-4020-88b4-8e30814bc8a7",
   "metadata": {},
   "source": [
    "# Load model and extract feature list"
   ]
  },
  {
   "cell_type": "code",
   "execution_count": 3,
   "id": "f068f8b6-859b-42e7-a9f0-8a006b042006",
   "metadata": {},
   "outputs": [],
   "source": [
    "model = pickle.load(open(model_path, 'rb'))"
   ]
  },
  {
   "cell_type": "code",
   "execution_count": 4,
   "id": "20bfa9d8-c428-487b-9037-89d0f0275aa5",
   "metadata": {},
   "outputs": [],
   "source": [
    "features = model.feature_names_in_\n",
    "features_series = pd.Series(features)"
   ]
  },
  {
   "cell_type": "code",
   "execution_count": 5,
   "id": "0ed8200b-c413-4a44-ae75-db08a30330aa",
   "metadata": {},
   "outputs": [
    {
     "data": {
      "text/plain": [
       "0                        ingredient_\n",
       "1           ingredient_& light cream\n",
       "2                    ingredient_7-up\n",
       "3               ingredient_7-up soda\n",
       "4                   ingredient_Other\n",
       "                    ...             \n",
       "4273    ingredient_yukon gold potato\n",
       "4274            ingredient_zinfandel\n",
       "4275           ingredient_ziploc bag\n",
       "4276          ingredient_ziti pastum\n",
       "4277             ingredient_zucchini\n",
       "Length: 4278, dtype: object"
      ]
     },
     "execution_count": 5,
     "metadata": {},
     "output_type": "execute_result"
    }
   ],
   "source": [
    "features_series"
   ]
  },
  {
   "cell_type": "markdown",
   "id": "1522f572-9660-47e7-83a2-2964988fe571",
   "metadata": {},
   "source": [
    "# Search features\n",
    "To demo, let's search for okra & tomatoes"
   ]
  },
  {
   "cell_type": "code",
   "execution_count": 6,
   "id": "f1524d66-4e16-459e-b470-3e35b8b7f3d3",
   "metadata": {},
   "outputs": [
    {
     "data": {
      "text/plain": [
       "1146    ingredient_cut okra\n",
       "2617        ingredient_okra\n",
       "2618    ingredient_okra pod\n",
       "dtype: object"
      ]
     },
     "execution_count": 6,
     "metadata": {},
     "output_type": "execute_result"
    }
   ],
   "source": [
    "features_series[features_series.str.contains('okra')]"
   ]
  },
  {
   "cell_type": "code",
   "execution_count": 7,
   "id": "8cd6b592-32ed-438f-8f84-26da0108f897",
   "metadata": {},
   "outputs": [
    {
     "data": {
      "text/plain": [
       "1596    ingredient_grape tomato\n",
       "dtype: object"
      ]
     },
     "execution_count": 7,
     "metadata": {},
     "output_type": "execute_result"
    }
   ],
   "source": [
    "features_series[features_series.str.contains('grape tomato')]"
   ]
  },
  {
   "cell_type": "code",
   "execution_count": 8,
   "id": "a2dd4b79-d19a-4850-a15a-fe5f85c391e7",
   "metadata": {},
   "outputs": [
    {
     "data": {
      "text/plain": [
       "671                   ingredient_chicken breast\n",
       "672            ingredient_chicken breast fillet\n",
       "673              ingredient_chicken breast half\n",
       "674             ingredient_chicken breast halve\n",
       "675            ingredient_chicken breast tender\n",
       "1617          ingredient_grilled chicken breast\n",
       "1618    ingredient_grilled chicken breast strip\n",
       "1634           ingredient_ground chicken breast\n",
       "3265          ingredient_roasted chicken breast\n",
       "3563           ingredient_smoked chicken breast\n",
       "dtype: object"
      ]
     },
     "execution_count": 8,
     "metadata": {},
     "output_type": "execute_result"
    }
   ],
   "source": [
    "features_series[features_series.str.contains('chicken breast')]"
   ]
  },
  {
   "cell_type": "markdown",
   "id": "7e4dc095-1c47-4c18-af2f-c1965df31577",
   "metadata": {},
   "source": [
    "# Build model input"
   ]
  },
  {
   "cell_type": "code",
   "execution_count": 12,
   "id": "672e13ab-cd70-41f7-ba26-521a9be4c7bb",
   "metadata": {},
   "outputs": [],
   "source": [
    "def predict(ingredient_names):\n",
    "    model_input = pd.DataFrame(np.zeros(shape=(1,len(features))), columns=features)\n",
    "    for value in ingredient_names:\n",
    "        model_input[value]=1\n",
    "    labels = model.predict(model_input)\n",
    "    return labels[0]"
   ]
  },
  {
   "cell_type": "code",
   "execution_count": 13,
   "id": "809ae1d0-8d6f-4e9b-a3da-075465c68fc9",
   "metadata": {},
   "outputs": [
    {
     "data": {
      "text/plain": [
       "4"
      ]
     },
     "execution_count": 13,
     "metadata": {},
     "output_type": "execute_result"
    }
   ],
   "source": [
    "predict((\"ingredient_okra\", \"ingredient_grape tomato\", \"ingredient_chicken breast\"))"
   ]
  },
  {
   "cell_type": "code",
   "execution_count": 14,
   "id": "c6929741-1a2b-413c-a9db-bd05761c839d",
   "metadata": {},
   "outputs": [
    {
     "data": {
      "text/plain": [
       "4"
      ]
     },
     "execution_count": 14,
     "metadata": {},
     "output_type": "execute_result"
    }
   ],
   "source": [
    "predict((\"ingredient_flour\", \"ingredient_chocolate chip\", \"ingredient_vanilla\"))"
   ]
  },
  {
   "cell_type": "markdown",
   "id": "b9ec42e4-c746-4dcb-9272-f8d9bdc8cb12",
   "metadata": {},
   "source": [
    "# Test out API"
   ]
  },
  {
   "cell_type": "code",
   "execution_count": 1,
   "id": "08ac47e8-a1b2-4059-9233-01fcad28860e",
   "metadata": {},
   "outputs": [],
   "source": [
    "import requests\n",
    "import json"
   ]
  },
  {
   "cell_type": "code",
   "execution_count": 10,
   "id": "991b9620-14b5-4c7c-8123-e88219e67d80",
   "metadata": {},
   "outputs": [],
   "source": [
    "base_url = \"http://flask:5000\""
   ]
  },
  {
   "cell_type": "code",
   "execution_count": 11,
   "id": "4d540271-eb4e-439f-9209-806ca8d5e757",
   "metadata": {},
   "outputs": [
    {
     "data": {
      "text/plain": [
       "<Response [200]>"
      ]
     },
     "execution_count": 11,
     "metadata": {},
     "output_type": "execute_result"
    }
   ],
   "source": [
    "requests.post(f\"{base_url}/predict\", json=json.dumps([\"ingredient_flour\", \"ingredient_chocolate chip\", \"ingredient_vanilla\"]))"
   ]
  },
  {
   "cell_type": "code",
   "execution_count": 12,
   "id": "236aed34-ca56-48c2-8301-d7b0ec2b5a77",
   "metadata": {},
   "outputs": [
    {
     "data": {
      "text/plain": [
       "['ingredient_cut okra', 'ingredient_okra', 'ingredient_okra pod']"
      ]
     },
     "execution_count": 12,
     "metadata": {},
     "output_type": "execute_result"
    }
   ],
   "source": [
    "requests.get(f\"{base_url}/ingredients?search=okra\").json()"
   ]
  },
  {
   "cell_type": "code",
   "execution_count": 28,
   "id": "c984e118-9028-4533-863c-993a172431f6",
   "metadata": {},
   "outputs": [
    {
     "data": {
      "text/plain": [
       "[]"
      ]
     },
     "execution_count": 28,
     "metadata": {},
     "output_type": "execute_result"
    }
   ],
   "source": [
    "requests.get(f\"{base_url}/ingredients?search=foobar\").json()"
   ]
  },
  {
   "cell_type": "code",
   "execution_count": 29,
   "id": "6efee50d-c98b-48f6-a3ce-0c6c949de2e0",
   "metadata": {},
   "outputs": [
    {
     "data": {
      "text/plain": [
       "['ingredient_chicken breast',\n",
       " 'ingredient_chicken breast fillet',\n",
       " 'ingredient_chicken breast half',\n",
       " 'ingredient_chicken breast halve',\n",
       " 'ingredient_chicken breast tender',\n",
       " 'ingredient_grilled chicken breast',\n",
       " 'ingredient_grilled chicken breast strip',\n",
       " 'ingredient_ground chicken breast',\n",
       " 'ingredient_roasted chicken breast',\n",
       " 'ingredient_smoked chicken breast']"
      ]
     },
     "execution_count": 29,
     "metadata": {},
     "output_type": "execute_result"
    }
   ],
   "source": [
    "requests.get(f\"{base_url}/ingredients?search=chicken breast\").json()"
   ]
  },
  {
   "cell_type": "code",
   "execution_count": 31,
   "id": "ed76a9dd-ca69-48b0-a5dc-f0c91c422c97",
   "metadata": {},
   "outputs": [
    {
     "data": {
      "text/plain": [
       "[{'contributor_id': 68585,\n",
       "  'description': 'this is a super easy, great tasting, make ahead side dish that looks like you spent a lot more time preparing than you actually do. plus, most everything is done in advance. the times do not reflect the standing time of the potatoes.',\n",
       "  'ingredients': \"['spreadable cheese with garlic and herbs', 'new potatoes', 'shallots', 'parsley', 'tarragon', 'olive oil', 'red wine vinegar', 'salt', 'pepper', 'red bell pepper', 'yellow bell pepper']\",\n",
       "  'label': 4,\n",
       "  'minutes': 45,\n",
       "  'n_ingredients': 11,\n",
       "  'n_steps': 11,\n",
       "  'name': 'alouette  potatoes',\n",
       "  'nutrition': '[368.1, 17.0, 10.0, 2.0, 14.0, 8.0, 20.0]',\n",
       "  'recipe_id': 59389,\n",
       "  'steps': '[\\'place potatoes in a large pot of lightly salted water and bring to a gentle boil\\', \\'cook until potatoes are just tender\\', \\'drain\\', \\'place potatoes in a large bowl and add all ingredients except the\"alouette\"\\', \\'mix well and transfer to a buttered 8x8 inch glass baking dish with 2 inch sides\\', \\'press the potatoes with a spatula to make top as flat as possible\\', \\'set aside for 2 hours at room temperature\\', \\'preheat oven to 350^f\\', \\'spread\"alouette\" evenly over potatoes and bake 15 minutes\\', \\'divide between plates\\', \\'garnish with finely diced red and yellow bell peppers\\']',\n",
       "  'str_name': 'alouette  potatoes',\n",
       "  'submitted': '2003-04-14',\n",
       "  'tags': \"['60-minutes-or-less', 'time-to-make', 'course', 'main-ingredient', 'preparation', 'occasion', 'side-dishes', 'eggs-dairy', 'potatoes', 'vegetables', 'oven', 'easy', 'dinner-party', 'holiday-event', 'easter', 'cheese', 'stove-top', 'dietary', 'christmas', 'new-years', 'thanksgiving', 'independence-day', 'st-patricks-day', 'valentines-day', 'inexpensive', 'brunch', 'superbowl', 'equipment', 'presentation', 'served-hot']\"},\n",
       " {'contributor_id': 41706,\n",
       "  'description': \"my dh's amish mother raised him on this recipe. he much prefers it over store-bought ketchup. it was a taste i had to acquire, but now my ds's also prefer this type of ketchup. enjoy!\",\n",
       "  'ingredients': \"['tomato juice', 'apple cider vinegar', 'sugar', 'salt', 'pepper', 'clove oil', 'cinnamon oil', 'dry mustard']\",\n",
       "  'label': 4,\n",
       "  'minutes': 190,\n",
       "  'n_ingredients': 8,\n",
       "  'n_steps': 5,\n",
       "  'name': 'amish  tomato ketchup  for canning',\n",
       "  'nutrition': '[352.9, 1.0, 337.0, 23.0, 3.0, 0.0, 28.0]',\n",
       "  'recipe_id': 44061,\n",
       "  'steps': '[\\'mix all ingredients& boil for 2 1 / 2 hours , or until thick\\', \\'pour into jars\\', \"i use\\'old\\' glass ketchup bottles\", \"it is not necessary for these to\\'seal\", \"\\'my amish mother-in-law has been making this her entire life , and has never used a\\'sealed\\' jar for this recipe , and it\\'s always been great !\"]',\n",
       "  'str_name': 'amish  tomato ketchup  for canning',\n",
       "  'submitted': '2002-10-25',\n",
       "  'tags': \"['weeknight', 'time-to-make', 'course', 'main-ingredient', 'cuisine', 'preparation', 'occasion', 'north-american', 'canning', 'condiments-etc', 'vegetables', 'american', 'heirloom-historical', 'holiday-event', 'vegetarian', 'dietary', 'amish-mennonite', 'northeastern-united-states', 'number-of-servings', 'technique', '4-hours-or-less']\"},\n",
       " {'contributor_id': 49168,\n",
       "  'description': 'horseradish is one of my favorite condiments as well as cranberry sauce. this is sweet and hot. i enjoy it on a smoked turkey & swiss sandwich, but also good alongside baked ham or roast beef.',\n",
       "  'ingredients': \"['whole berry cranberry sauce', 'sour cream', 'prepared horseradish']\",\n",
       "  'label': 4,\n",
       "  'minutes': 5,\n",
       "  'n_ingredients': 3,\n",
       "  'n_steps': 2,\n",
       "  'name': 'berry  good sandwich spread',\n",
       "  'nutrition': '[79.2, 3.0, 58.0, 0.0, 0.0, 6.0, 5.0]',\n",
       "  'recipe_id': 109439,\n",
       "  'steps': \"['in medium size bowl , coarsely mash cranberry sauce', 'stir in sour cream and horseradish until well blended']\",\n",
       "  'str_name': 'berry  good sandwich spread',\n",
       "  'submitted': '2005-01-25',\n",
       "  'tags': \"['15-minutes-or-less', 'time-to-make', 'course', 'preparation', 'low-protein', 'healthy', '5-ingredients-or-less', 'condiments-etc', 'easy', 'dietary', 'low-sodium', 'low-in-something', '3-steps-or-less']\"},\n",
       " {'contributor_id': 41531,\n",
       "  'description': \"simple but sexy. this was in my local newspaper's food section. cook time reflects refrigeration time.  i've been asked several times if this should be baked.  just to clarify, no, it is not, it is a refrigerator dessert. i'm not sure why it contains raw egg, but most tiramisu recipes do too.\",\n",
       "  'ingredients': \"['vanilla wafers', 'butter', 'powdered sugar', 'eggs', 'whipping cream', 'strawberry', 'walnuts']\",\n",
       "  'label': 4,\n",
       "  'minutes': 1460,\n",
       "  'n_ingredients': 7,\n",
       "  'n_steps': 8,\n",
       "  'name': 'better than sex  strawberries',\n",
       "  'nutrition': '[734.1, 66.0, 199.0, 10.0, 10.0, 117.0, 28.0]',\n",
       "  'recipe_id': 42198,\n",
       "  'steps': '[\\'crush vanilla wafers into fine crumbs and line a square 8\" x8\" pan\\', \\'mix butter or margarine and sugar\\', \\'add beaten eggs\\', \\'spread the mixture over the wafer crumbs\\', \\'crush strawberries and spread over sugar , egg , and butter mixture\\', \\'cover strawberries with whipped cream\\', \\'sprinkle with chopped nuts\\', \\'chill 24 hours\\']',\n",
       "  'str_name': 'better than sex  strawberries',\n",
       "  'submitted': '2002-10-03',\n",
       "  'tags': \"['weeknight', 'time-to-make', 'course', 'main-ingredient', 'preparation', 'occasion', 'low-protein', 'pies-and-tarts', 'desserts', 'fruit', '1-day-or-more', 'pies', 'dietary', 'low-sodium', 'comfort-food', 'low-in-something', 'berries', 'strawberries', 'taste-mood']\"},\n",
       " {'contributor_id': 137696,\n",
       "  'description': 'my boss gave me this recipe several years ago. the recipe supposedly came from the ',\n",
       "  'ingredients': \"['collard greens', 'brown sugar', 'molasses', 'hot sauce', 'whiskey', 'ham hock', 'salt']\",\n",
       "  'label': 4,\n",
       "  'minutes': 525,\n",
       "  'n_ingredients': 7,\n",
       "  'n_steps': 7,\n",
       "  'name': 'boat house  collard greens',\n",
       "  'nutrition': '[315.8, 0.0, 202.0, 9.0, 6.0, 0.0, 21.0]',\n",
       "  'recipe_id': 107517,\n",
       "  'steps': \"['put prepared greens in large pot', 'add water', 'bring to a boil , and boil for one hour', 'add sugar , molasses , hot sauce , whiskey , and ham hock', 'bring to a boil again , and boil for another hour', 'reduce heat and simmer for 4-6 hours', 'during the last hour of cooking , add a little salt to taste']\",\n",
       "  'str_name': 'boat house  collard greens',\n",
       "  'submitted': '2005-01-03',\n",
       "  'tags': \"['time-to-make', 'main-ingredient', 'preparation', 'vegetables', 'dietary', 'greens', 'collard-greens']\"},\n",
       " {'contributor_id': 108291,\n",
       "  'description': 'delicious, crunchy fried chicken. this recipe came from the ',\n",
       "  'ingredients': \"['boneless skinless chicken breast halves', 'condensed cream of chicken soup', 'egg', 'seasoning salt', 'all-purpose flour', 'cornstarch', 'garlic powder', 'paprika', 'salt and pepper', 'oil']\",\n",
       "  'label': 4,\n",
       "  'minutes': 35,\n",
       "  'n_ingredients': 10,\n",
       "  'n_steps': 8,\n",
       "  'name': 'crispy crunchy  chicken',\n",
       "  'nutrition': '[335.8, 11.0, 2.0, 24.0, 64.0, 10.0, 10.0]',\n",
       "  'recipe_id': 83873,\n",
       "  'steps': \"['combine soup , egg and seasoned salt in a bowl and set aside', 'mix together flour , cornstarch , garlic powder , paprika , salt and pepper in a resealable plastic bag', 'dip chicken pieces into soup mixture and turn so as to coat all over', 'place chicken pieces in bag with flour mixture , seal bag and shake to coat chicken', 'place coated pieces of chicken on a platter and allow to set until the coating becomes doughy', 'heat oil in a deep fryer or in a skillet over medium heat , using enough oil to cover chicken pieces when fried', 'once chicken is doughy , fry pieces in oil for approx 5-8 minutes or until cooked through and juices run clear', 'drain pieces on paper towel and serve']\",\n",
       "  'str_name': 'crispy crunchy  chicken',\n",
       "  'submitted': '2004-02-13',\n",
       "  'tags': \"['60-minutes-or-less', 'time-to-make', 'course', 'preparation', 'healthy', 'main-dish', 'dietary', 'low-saturated-fat', 'low-in-something']\"},\n",
       " {'contributor_id': 64428,\n",
       "  'description': 'the secret to this easy hollandaise sauce is in separating the egg yolks. remove all the egg whites, as they can thin the sauce. also, it is best prepared in a double boiler to prevent overheating. serve over cooked asparagus, broccoli, or broiled tomatoes.',\n",
       "  'ingredients': \"['butter', 'lemon, juice of', 'salt', 'white pepper', 'egg yolks']\",\n",
       "  'label': 4,\n",
       "  'minutes': 25,\n",
       "  'n_ingredients': 5,\n",
       "  'n_steps': 7,\n",
       "  'name': 'easiest ever  hollandaise sauce',\n",
       "  'nutrition': '[1290.4, 213.0, 4.0, 53.0, 22.0, 417.0, 1.0]',\n",
       "  'recipe_id': 49262,\n",
       "  'steps': \"['cut the butter into several pieces and bring to room temperature', 'in the top of a double boiler , combine egg yolks , lemon juice , salt and pepper', 'add a piece of butter', 'cook , stirring steadily with a wooden spoon or wire whisk , over , but not touching , boiling water', 'when butter melts and sauce begins to thicken , add remaining butter , stirring constantly until melted', 'continue cooking as sauce thickens , about 2 more minutes', 'immediately remove from heat']\",\n",
       "  'str_name': 'easiest ever  hollandaise sauce',\n",
       "  'submitted': '2002-12-19',\n",
       "  'tags': \"['30-minutes-or-less', 'time-to-make', 'course', 'main-ingredient', 'preparation', 'very-low-carbs', 'sauces', 'condiments-etc', 'eggs-dairy', 'eggs', 'stove-top', 'dietary', 'low-carb', 'savory-sauces', 'low-in-something', 'equipment', 'number-of-servings']\"},\n",
       " {'contributor_id': 1533,\n",
       "  'description': 'my husband made these up last week, very tasty, he liked them because they were easy.',\n",
       "  'ingredients': \"['red potatoes', 'margarine', 'rosemary']\",\n",
       "  'label': 4,\n",
       "  'minutes': 40,\n",
       "  'n_ingredients': 3,\n",
       "  'n_steps': 14,\n",
       "  'name': 'fried  potatoes',\n",
       "  'nutrition': '[132.6, 8.0, 4.0, 3.0, 4.0, 5.0, 6.0]',\n",
       "  'recipe_id': 37073,\n",
       "  'steps': \"['preheat oven to 400 degrees', 'cut the potatoes into strips about 2 1 / 2 inches long by 1 / 4-inch thick', 'soak the potatoes in ice water for five minutes', 'drain the potatoes , then rinse thoroughly under cold water', 'press between paper towels to dry', 'transfer potatoes to a bowl , pour melted margarine over the potatoes and toss to coat them', 'spray baking sheet with non-stick spray', 'spread potatoes onto baking sheet', 'bake for 15 minutes', 'toss and turn', 'bake for five minutes', 'add herbs and toss', 'bake a final five minutes until the potatoes are brown and crisp', 'serve immediately']\",\n",
       "  'str_name': 'fried  potatoes',\n",
       "  'submitted': '2002-08-13',\n",
       "  'tags': \"['60-minutes-or-less', 'time-to-make', 'course', 'main-ingredient', 'preparation', 'low-protein', 'healthy', '5-ingredients-or-less', 'side-dishes', 'potatoes', 'vegetables', 'oven', 'easy', 'dietary', 'low-sodium', 'low-cholesterol', 'low-saturated-fat', 'low-calorie', 'healthy-2', 'low-in-something', 'equipment']\"},\n",
       " {'contributor_id': 91081,\n",
       "  'description': 'buttery and ',\n",
       "  'ingredients': \"['butter', 'dry ranch dressing mix', 'french bread']\",\n",
       "  'label': 4,\n",
       "  'minutes': 13,\n",
       "  'n_ingredients': 3,\n",
       "  'n_steps': 4,\n",
       "  'name': 'grilled  ranch bread',\n",
       "  'nutrition': '[1649.8, 91.0, 4.0, 128.0, 80.0, 160.0, 78.0]',\n",
       "  'recipe_id': 93249,\n",
       "  'steps': \"['cream the butter with the dressing mix', 'spread evenly on the bread halves', 'place under the broiler for 2-3 minutes , until golden and the butter begins to seep and bubble', 'serve hot']\",\n",
       "  'str_name': 'grilled  ranch bread',\n",
       "  'submitted': '2004-06-11',\n",
       "  'tags': \"['15-minutes-or-less', 'time-to-make', 'course', 'preparation', '5-ingredients-or-less', 'appetizers', 'breads', 'easy', 'number-of-servings', '3-steps-or-less']\"},\n",
       " {'contributor_id': 37183,\n",
       "  'description': \"just the thing for a day when you're wanton something delicious, and a hamburger patty is just too restrictive. loosen up your inhibitions and pile some loose meat on a bun. wicked over hot, whipped potatoes as well.\",\n",
       "  'ingredients': \"['ground beef', 'sugar', 'prepared yellow mustard', 'beer', 'cayenne', 'garlic', 'salt & pepper', 'american cheese']\",\n",
       "  'label': 4,\n",
       "  'minutes': 35,\n",
       "  'n_ingredients': 8,\n",
       "  'n_steps': 6,\n",
       "  'name': 'immoral  sandwich filling  loose meat',\n",
       "  'nutrition': '[223.2, 22.0, 4.0, 7.0, 35.0, 30.0, 0.0]',\n",
       "  'recipe_id': 58224,\n",
       "  'steps': \"['brown the meat & drain fat', 'stir in sugar , mustard , beer , cayenne , garlic and salt & pepper to taste', 'simmer until liquid has mostly cooked away', 'lay slices of cheese over top of meat , then cover for about 5 minutes , with heat on very low , until cheese has melted', 'stir cheese into meat', 'serve hot , on sandwich buns or bread , or over hot potatoes or rice']\",\n",
       "  'str_name': 'immoral  sandwich filling  loose meat',\n",
       "  'submitted': '2003-04-04',\n",
       "  'tags': \"['60-minutes-or-less', 'time-to-make', 'course', 'main-ingredient', 'preparation', 'for-large-groups', 'very-low-carbs', 'lunch', 'main-dish', 'beef', 'easy', 'stove-top', 'dietary', 'sandwiches', 'low-carb', 'inexpensive', 'ground-beef', 'low-in-something', 'meat', 'equipment', 'number-of-servings']\"}]"
      ]
     },
     "execution_count": 31,
     "metadata": {},
     "output_type": "execute_result"
    }
   ],
   "source": [
    "requests.get(f\"{base_url}/recipes?label=4\").json()"
   ]
  },
  {
   "cell_type": "code",
   "execution_count": 32,
   "id": "b99bf299-77d8-4364-bab0-ec507c00048f",
   "metadata": {},
   "outputs": [
    {
     "data": {
      "text/plain": [
       "[{'contributor_id': 47892,\n",
       "  'description': 'autumn is my favorite time of year to cook! this recipe \\r\\ncan be prepared either spicy or sweet, your choice!\\r\\ntwo of my posted mexican-inspired seasoning mix recipes are offered as suggestions.',\n",
       "  'ingredients': \"['winter squash', 'mexican seasoning', 'mixed spice', 'honey', 'butter', 'olive oil', 'salt']\",\n",
       "  'label': 1,\n",
       "  'minutes': 55,\n",
       "  'n_ingredients': 7,\n",
       "  'n_steps': 11,\n",
       "  'name': 'arriba   baked winter squash mexican style',\n",
       "  'nutrition': '[51.5, 0.0, 13.0, 0.0, 2.0, 0.0, 4.0]',\n",
       "  'recipe_id': 137739,\n",
       "  'steps': \"['make a choice and proceed with recipe', 'depending on size of squash , cut into half or fourths', 'remove seeds', 'for spicy squash , drizzle olive oil or melted butter over each cut squash piece', 'season with mexican seasoning mix ii', 'for sweet squash , drizzle melted honey , butter , grated piloncillo over each cut squash piece', 'season with sweet mexican spice mix', 'bake at 350 degrees , again depending on size , for 40 minutes up to an hour , until a fork can easily pierce the skin', 'be careful not to burn the squash especially if you opt to use sugar or butter', 'if you feel more comfortable , cover the squash with aluminum foil the first half hour , give or take , of baking', 'if desired , season with salt']\",\n",
       "  'str_name': 'arriba   baked winter squash mexican style',\n",
       "  'submitted': '2005-09-16',\n",
       "  'tags': \"['60-minutes-or-less', 'time-to-make', 'course', 'main-ingredient', 'cuisine', 'preparation', 'occasion', 'north-american', 'side-dishes', 'vegetables', 'mexican', 'easy', 'fall', 'holiday-event', 'vegetarian', 'winter', 'dietary', 'christmas', 'seasonal', 'squash']\"},\n",
       " {'contributor_id': 26278,\n",
       "  'description': 'this recipe calls for the crust to be prebaked a bit before adding ingredients. feel free to change sausage to ham or bacon. this warms well in the microwave for those late risers.',\n",
       "  'ingredients': \"['prepared pizza crust', 'sausage patty', 'eggs', 'milk', 'salt and pepper', 'cheese']\",\n",
       "  'label': 1,\n",
       "  'minutes': 30,\n",
       "  'n_ingredients': 6,\n",
       "  'n_steps': 9,\n",
       "  'name': 'a bit different  breakfast pizza',\n",
       "  'nutrition': '[173.4, 18.0, 0.0, 17.0, 22.0, 35.0, 1.0]',\n",
       "  'recipe_id': 31490,\n",
       "  'steps': \"['preheat oven to 425 degrees f', 'press dough into the bottom and sides of a 12 inch pizza pan', 'bake for 5 minutes until set but not browned', 'cut sausage into small pieces', 'whisk eggs and milk in a bowl until frothy', 'spoon sausage over baked crust and sprinkle with cheese', 'pour egg mixture slowly over sausage and cheese', 's& p to taste', 'bake 15-20 minutes or until eggs are set and crust is brown']\",\n",
       "  'str_name': 'a bit different  breakfast pizza',\n",
       "  'submitted': '2002-06-17',\n",
       "  'tags': \"['30-minutes-or-less', 'time-to-make', 'course', 'main-ingredient', 'cuisine', 'preparation', 'occasion', 'north-american', 'breakfast', 'main-dish', 'pork', 'american', 'oven', 'easy', 'kid-friendly', 'pizza', 'dietary', 'northeastern-united-states', 'meat', 'equipment']\"}]"
      ]
     },
     "execution_count": 32,
     "metadata": {},
     "output_type": "execute_result"
    }
   ],
   "source": [
    "requests.get(f\"{base_url}/recipes?label=1&limit=2\").json()"
   ]
  },
  {
   "cell_type": "code",
   "execution_count": 34,
   "id": "f8104f6a-b4e5-4555-9596-c637fe7e3768",
   "metadata": {},
   "outputs": [
    {
     "data": {
      "text/plain": [
       "[{'contributor_id': 49304,\n",
       "  'description': 'this is a very tasty, moist, carrot cake. a nice sized cake for 2 or 3 people.',\n",
       "  'ingredients': \"['yellow cake mix', 'vanilla instant pudding mix', 'nutmeg', 'cinnamon', 'eggs', 'oil', 'water', 'crushed pineapple', 'carrot', 'pecans', 'coconut']\",\n",
       "  'label': 14,\n",
       "  'minutes': 50,\n",
       "  'n_ingredients': 11,\n",
       "  'n_steps': 8,\n",
       "  'name': 'jiffy  extra moist carrot cake',\n",
       "  'nutrition': '[612.1, 49.0, 170.0, 25.0, 15.0, 39.0, 25.0]',\n",
       "  'recipe_id': 52804,\n",
       "  'steps': \"['preheat oven to 350 degrees', 'mix together the cake mix , pudding , nutmeg and cinnamon', 'add eggs , oil and water to this mixture', 'mix on medium speed for 1 minute', 'add the pineapple , carrots , pecans and coconut', 'blend well', 'pour into a greased 9 inch round cake pan', 'bake 25 to 30 minutes , until tooth pick inserted in the center comes out clean']\",\n",
       "  'str_name': 'jiffy  extra moist carrot cake',\n",
       "  'submitted': '2003-01-29',\n",
       "  'tags': \"['60-minutes-or-less', 'time-to-make', 'course', 'main-ingredient', 'preparation', 'occasion', 'desserts', 'eggs-dairy', 'fruit', 'vegetables', 'oven', 'easy', 'kid-friendly', 'picnic', 'cakes', 'nuts', 'eggs', 'dietary', 'comfort-food', 'inexpensive', 'tropical-fruit', 'pineapple', 'taste-mood', 'to-go', 'equipment']\"},\n",
       " {'contributor_id': 29212,\n",
       "  'description': \"i have made this several times and it's dead easy. if you have overnight guests, what could be easier for breakfast? i've made it on special occasions, too, such as easter morning and christmas morning, etc. this recipe comes from the best of bridge series.\",\n",
       "  'ingredients': \"['rolls', 'brown sugar', 'instant vanilla pudding', 'cinnamon', 'raisins', 'butter']\",\n",
       "  'label': 14,\n",
       "  'minutes': 35,\n",
       "  'n_ingredients': 6,\n",
       "  'n_steps': 7,\n",
       "  'name': 'land of nod  cinnamon buns',\n",
       "  'nutrition': '[575.3, 18.0, 116.0, 34.0, 28.0, 22.0, 34.0]',\n",
       "  'recipe_id': 22526,\n",
       "  'steps': '[\\'before you turn in for the night , grease a 10\" bundt pan and add frozen rolls\\', \\'sprinkle with brown sugar , pudding powder , cinnamon and raisins\\', \\'pour melted butter over all\\', \\'cover with a clean , damp cloth\\', \\'off to bed you go !\\', \\'in the morning , preheat oven to 350 and bake for 25 minutes\\', \\'let sit for 5 minutes and then turn out on a serving plate\\']',\n",
       "  'str_name': 'land of nod  cinnamon buns',\n",
       "  'submitted': '2002-03-14',\n",
       "  'tags': \"['60-minutes-or-less', 'time-to-make', 'course', 'preparation', 'breakfast', 'oven', 'easy', 'dietary', 'equipment']\"}]"
      ]
     },
     "execution_count": 34,
     "metadata": {},
     "output_type": "execute_result"
    }
   ],
   "source": [
    "result = requests.post(f\"{base_url}/predict\", json=json.dumps([\"ingredient_ground beef\", \"ingredient_chili powder\", \"ingredient_kidney bean\", \"ingredient_tomato soup\", \"ingredient_onion\", \"ingredient_bacon\"])).json()\n",
    "requests.get(f\"{base_url}/recipes?label={result['label']}&limit=2\").json()"
   ]
  },
  {
   "cell_type": "code",
   "execution_count": null,
   "id": "e525cfed-4038-4d95-b7ce-a2c066f6d37d",
   "metadata": {},
   "outputs": [],
   "source": []
  }
 ],
 "metadata": {
  "kernelspec": {
   "display_name": "Python 3 (ipykernel)",
   "language": "python",
   "name": "python3"
  },
  "language_info": {
   "codemirror_mode": {
    "name": "ipython",
    "version": 3
   },
   "file_extension": ".py",
   "mimetype": "text/x-python",
   "name": "python",
   "nbconvert_exporter": "python",
   "pygments_lexer": "ipython3",
   "version": "3.9.15"
  }
 },
 "nbformat": 4,
 "nbformat_minor": 5
}
